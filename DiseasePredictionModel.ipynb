{
 "cells": [
  {
   "cell_type": "markdown",
   "id": "1fae6630",
   "metadata": {},
   "source": [
    "## Introduction\n",
    "\n",
    "I would like to share my humble Kaggle competition Season 3 Episode 12 entry project with you, which aims to address the challenge of binary classification using a kidney stone prediction dataset. This project serves as a way for me to practice and improve my skills in ML/Data Science.\n",
    "\n",
    "Shortcomings aside, I hope it can demonstrate my growing capability in this field.\n"
   ]
  },
  {
   "cell_type": "code",
   "execution_count": 121,
   "id": "c3aec214",
   "metadata": {},
   "outputs": [],
   "source": [
    "import pandas as pd\n",
    "import numpy as np\n",
    "import seaborn as sns\n",
    "import matplotlib.pyplot as plt\n",
    "import plotly.express as px\n",
    "import os\n",
    "import csv\n",
    "#from sklearn.model_selection import RepeatedStratifiedKFold\n",
    "#from sklearn.metrics import mean_absolute_error\n",
    "from sklearn.model_selection import train_test_split\n",
    "from sklearn.tree import DecisionTreeRegressor\n",
    "from sklearn.ensemble import RandomForestClassifier\n",
    "#from sklearn.metrics import mean_absolute_error\n",
    "#from sklearn.model_selection import StratifiedKFold\n",
    "#from sklearn.metrics import roc_auc_score\n",
    "#from pygam import LogisticGAM\n",
    "#from pygam import LogisticGAM, s\n",
    "#import sklearn\n"
   ]
  },
  {
   "cell_type": "code",
   "execution_count": 34,
   "id": "a5edfc33",
   "metadata": {},
   "outputs": [],
   "source": [
    "#data prep, decision tree, keras tensorflow predictor, evaluate with CV\n"
   ]
  },
  {
   "cell_type": "markdown",
   "id": "023bd70d",
   "metadata": {},
   "source": [
    "## Data Preparation"
   ]
  },
  {
   "cell_type": "code",
   "execution_count": 35,
   "id": "faf5dcae",
   "metadata": {},
   "outputs": [],
   "source": [
    "# construct the file paths using os.path.join\n",
    "train_path = os.path.join(\"input\", \"train.csv\")\n",
    "test_path = os.path.join(\"input\", \"test.csv\")\n",
    "sample_submission_path = os.path.join(\"input\", \"sample_submission.csv\")\n",
    "\n",
    "# load the CSV data using pandas\n",
    "train_data = pd.read_csv(train_path)\n",
    "test_data = pd.read_csv(test_path)\n",
    "sample_submission_data = pd.read_csv(sample_submission_path)\n"
   ]
  },
  {
   "cell_type": "markdown",
   "id": "b04ca190",
   "metadata": {},
   "source": [
    "## Exploratory Data Analysis"
   ]
  },
  {
   "cell_type": "code",
   "execution_count": 36,
   "id": "41d5d38e",
   "metadata": {},
   "outputs": [
    {
     "name": "stdout",
     "output_type": "stream",
     "text": [
      "               id  sudden_fever    headache  mouth_bleed  nose_bleed  \\\n",
      "count  707.000000    707.000000  707.000000   707.000000  707.000000   \n",
      "mean   353.000000      0.503536    0.449788     0.459689    0.487977   \n",
      "std    204.237607      0.500341    0.497825     0.498725    0.500209   \n",
      "min      0.000000      0.000000    0.000000     0.000000    0.000000   \n",
      "25%    176.500000      0.000000    0.000000     0.000000    0.000000   \n",
      "50%    353.000000      1.000000    0.000000     0.000000    0.000000   \n",
      "75%    529.500000      1.000000    1.000000     1.000000    1.000000   \n",
      "max    706.000000      1.000000    1.000000     1.000000    1.000000   \n",
      "\n",
      "       muscle_pain  joint_pain    vomiting        rash    diarrhea  ...  \\\n",
      "count   707.000000  707.000000  707.000000  707.000000  707.000000  ...   \n",
      "mean      0.517680    0.449788    0.441301    0.487977    0.390382  ...   \n",
      "std       0.500041    0.497825    0.496894    0.500209    0.488181  ...   \n",
      "min       0.000000    0.000000    0.000000    0.000000    0.000000  ...   \n",
      "25%       0.000000    0.000000    0.000000    0.000000    0.000000  ...   \n",
      "50%       1.000000    0.000000    0.000000    0.000000    0.000000  ...   \n",
      "75%       1.000000    1.000000    1.000000    1.000000    1.000000  ...   \n",
      "max       1.000000    1.000000    1.000000    1.000000    1.000000  ...   \n",
      "\n",
      "       lymph_swells  breathing_restriction  toe_inflammation  \\\n",
      "count    707.000000             707.000000        707.000000   \n",
      "mean       0.148515               0.072136          0.097595   \n",
      "std        0.355861               0.258896          0.296977   \n",
      "min        0.000000               0.000000          0.000000   \n",
      "25%        0.000000               0.000000          0.000000   \n",
      "50%        0.000000               0.000000          0.000000   \n",
      "75%        0.000000               0.000000          0.000000   \n",
      "max        1.000000               1.000000          1.000000   \n",
      "\n",
      "       finger_inflammation  lips_irritation   itchiness      ulcers  \\\n",
      "count           707.000000       707.000000  707.000000  707.000000   \n",
      "mean              0.079208         0.084866    0.154173    0.144272   \n",
      "std               0.270254         0.278879    0.361370    0.351614   \n",
      "min               0.000000         0.000000    0.000000    0.000000   \n",
      "25%               0.000000         0.000000    0.000000    0.000000   \n",
      "50%               0.000000         0.000000    0.000000    0.000000   \n",
      "75%               0.000000         0.000000    0.000000    0.000000   \n",
      "max               1.000000         1.000000    1.000000    1.000000   \n",
      "\n",
      "       toenail_loss  speech_problem  bullseye_rash  \n",
      "count    707.000000      707.000000     707.000000  \n",
      "mean       0.137199        0.032532       0.031117  \n",
      "std        0.344301        0.177533       0.173758  \n",
      "min        0.000000        0.000000       0.000000  \n",
      "25%        0.000000        0.000000       0.000000  \n",
      "50%        0.000000        0.000000       0.000000  \n",
      "75%        0.000000        0.000000       0.000000  \n",
      "max        1.000000        1.000000       1.000000  \n",
      "\n",
      "[8 rows x 65 columns]\n",
      "<class 'pandas.core.frame.DataFrame'>\n",
      "RangeIndex: 707 entries, 0 to 706\n",
      "Data columns (total 66 columns):\n",
      " #   Column                 Non-Null Count  Dtype  \n",
      "---  ------                 --------------  -----  \n",
      " 0   id                     707 non-null    int64  \n",
      " 1   sudden_fever           707 non-null    float64\n",
      " 2   headache               707 non-null    float64\n",
      " 3   mouth_bleed            707 non-null    float64\n",
      " 4   nose_bleed             707 non-null    float64\n",
      " 5   muscle_pain            707 non-null    float64\n",
      " 6   joint_pain             707 non-null    float64\n",
      " 7   vomiting               707 non-null    float64\n",
      " 8   rash                   707 non-null    float64\n",
      " 9   diarrhea               707 non-null    float64\n",
      " 10  hypotension            707 non-null    float64\n",
      " 11  pleural_effusion       707 non-null    float64\n",
      " 12  ascites                707 non-null    float64\n",
      " 13  gastro_bleeding        707 non-null    float64\n",
      " 14  swelling               707 non-null    float64\n",
      " 15  nausea                 707 non-null    float64\n",
      " 16  chills                 707 non-null    float64\n",
      " 17  myalgia                707 non-null    float64\n",
      " 18  digestion_trouble      707 non-null    float64\n",
      " 19  fatigue                707 non-null    float64\n",
      " 20  skin_lesions           707 non-null    float64\n",
      " 21  stomach_pain           707 non-null    float64\n",
      " 22  orbital_pain           707 non-null    float64\n",
      " 23  neck_pain              707 non-null    float64\n",
      " 24  weakness               707 non-null    float64\n",
      " 25  back_pain              707 non-null    float64\n",
      " 26  weight_loss            707 non-null    float64\n",
      " 27  gum_bleed              707 non-null    float64\n",
      " 28  jaundice               707 non-null    float64\n",
      " 29  coma                   707 non-null    float64\n",
      " 30  diziness               707 non-null    float64\n",
      " 31  inflammation           707 non-null    float64\n",
      " 32  red_eyes               707 non-null    float64\n",
      " 33  loss_of_appetite       707 non-null    float64\n",
      " 34  urination_loss         707 non-null    float64\n",
      " 35  slow_heart_rate        707 non-null    float64\n",
      " 36  abdominal_pain         707 non-null    float64\n",
      " 37  light_sensitivity      707 non-null    float64\n",
      " 38  yellow_skin            707 non-null    float64\n",
      " 39  yellow_eyes            707 non-null    float64\n",
      " 40  facial_distortion      707 non-null    float64\n",
      " 41  microcephaly           707 non-null    float64\n",
      " 42  rigor                  707 non-null    float64\n",
      " 43  bitter_tongue          707 non-null    float64\n",
      " 44  convulsion             707 non-null    float64\n",
      " 45  anemia                 707 non-null    float64\n",
      " 46  cocacola_urine         707 non-null    float64\n",
      " 47  hypoglycemia           707 non-null    float64\n",
      " 48  prostraction           707 non-null    float64\n",
      " 49  hyperpyrexia           707 non-null    float64\n",
      " 50  stiff_neck             707 non-null    float64\n",
      " 51  irritability           707 non-null    float64\n",
      " 52  confusion              707 non-null    float64\n",
      " 53  tremor                 707 non-null    float64\n",
      " 54  paralysis              707 non-null    float64\n",
      " 55  lymph_swells           707 non-null    float64\n",
      " 56  breathing_restriction  707 non-null    float64\n",
      " 57  toe_inflammation       707 non-null    float64\n",
      " 58  finger_inflammation    707 non-null    float64\n",
      " 59  lips_irritation        707 non-null    float64\n",
      " 60  itchiness              707 non-null    float64\n",
      " 61  ulcers                 707 non-null    float64\n",
      " 62  toenail_loss           707 non-null    float64\n",
      " 63  speech_problem         707 non-null    float64\n",
      " 64  bullseye_rash          707 non-null    float64\n",
      " 65  prognosis              707 non-null    object \n",
      "dtypes: float64(64), int64(1), object(1)\n",
      "memory usage: 364.7+ KB\n",
      "None\n"
     ]
    }
   ],
   "source": [
    "#prognosis is target\n",
    "\n",
    "#train_data.iloc[0].transform\n",
    "print(train_data.describe())\n",
    "print(train_data.info())"
   ]
  },
  {
   "cell_type": "code",
   "execution_count": 60,
   "id": "4fc30854",
   "metadata": {},
   "outputs": [
    {
     "data": {
      "text/html": [
       "<div>\n",
       "<style scoped>\n",
       "    .dataframe tbody tr th:only-of-type {\n",
       "        vertical-align: middle;\n",
       "    }\n",
       "\n",
       "    .dataframe tbody tr th {\n",
       "        vertical-align: top;\n",
       "    }\n",
       "\n",
       "    .dataframe thead th {\n",
       "        text-align: right;\n",
       "    }\n",
       "</style>\n",
       "<table border=\"1\" class=\"dataframe\">\n",
       "  <thead>\n",
       "    <tr style=\"text-align: right;\">\n",
       "      <th></th>\n",
       "      <th>id</th>\n",
       "      <th>sudden_fever</th>\n",
       "      <th>headache</th>\n",
       "      <th>mouth_bleed</th>\n",
       "      <th>nose_bleed</th>\n",
       "      <th>muscle_pain</th>\n",
       "      <th>joint_pain</th>\n",
       "      <th>vomiting</th>\n",
       "      <th>rash</th>\n",
       "      <th>diarrhea</th>\n",
       "      <th>...</th>\n",
       "      <th>lymph_swells</th>\n",
       "      <th>breathing_restriction</th>\n",
       "      <th>toe_inflammation</th>\n",
       "      <th>finger_inflammation</th>\n",
       "      <th>lips_irritation</th>\n",
       "      <th>itchiness</th>\n",
       "      <th>ulcers</th>\n",
       "      <th>toenail_loss</th>\n",
       "      <th>speech_problem</th>\n",
       "      <th>bullseye_rash</th>\n",
       "    </tr>\n",
       "  </thead>\n",
       "  <tbody>\n",
       "    <tr>\n",
       "      <th>0</th>\n",
       "      <td>707</td>\n",
       "      <td>0.0</td>\n",
       "      <td>0.0</td>\n",
       "      <td>0.0</td>\n",
       "      <td>0.0</td>\n",
       "      <td>0.0</td>\n",
       "      <td>0.0</td>\n",
       "      <td>0.0</td>\n",
       "      <td>0.0</td>\n",
       "      <td>0.0</td>\n",
       "      <td>...</td>\n",
       "      <td>0.0</td>\n",
       "      <td>0.0</td>\n",
       "      <td>0.0</td>\n",
       "      <td>0.0</td>\n",
       "      <td>0.0</td>\n",
       "      <td>0.0</td>\n",
       "      <td>0.0</td>\n",
       "      <td>0.0</td>\n",
       "      <td>0.0</td>\n",
       "      <td>0.0</td>\n",
       "    </tr>\n",
       "    <tr>\n",
       "      <th>1</th>\n",
       "      <td>708</td>\n",
       "      <td>1.0</td>\n",
       "      <td>1.0</td>\n",
       "      <td>0.0</td>\n",
       "      <td>1.0</td>\n",
       "      <td>0.0</td>\n",
       "      <td>1.0</td>\n",
       "      <td>1.0</td>\n",
       "      <td>1.0</td>\n",
       "      <td>1.0</td>\n",
       "      <td>...</td>\n",
       "      <td>0.0</td>\n",
       "      <td>0.0</td>\n",
       "      <td>0.0</td>\n",
       "      <td>0.0</td>\n",
       "      <td>0.0</td>\n",
       "      <td>0.0</td>\n",
       "      <td>0.0</td>\n",
       "      <td>0.0</td>\n",
       "      <td>0.0</td>\n",
       "      <td>0.0</td>\n",
       "    </tr>\n",
       "    <tr>\n",
       "      <th>2</th>\n",
       "      <td>709</td>\n",
       "      <td>1.0</td>\n",
       "      <td>1.0</td>\n",
       "      <td>0.0</td>\n",
       "      <td>1.0</td>\n",
       "      <td>1.0</td>\n",
       "      <td>1.0</td>\n",
       "      <td>1.0</td>\n",
       "      <td>0.0</td>\n",
       "      <td>1.0</td>\n",
       "      <td>...</td>\n",
       "      <td>0.0</td>\n",
       "      <td>0.0</td>\n",
       "      <td>0.0</td>\n",
       "      <td>0.0</td>\n",
       "      <td>0.0</td>\n",
       "      <td>1.0</td>\n",
       "      <td>0.0</td>\n",
       "      <td>0.0</td>\n",
       "      <td>0.0</td>\n",
       "      <td>0.0</td>\n",
       "    </tr>\n",
       "    <tr>\n",
       "      <th>3</th>\n",
       "      <td>710</td>\n",
       "      <td>0.0</td>\n",
       "      <td>1.0</td>\n",
       "      <td>0.0</td>\n",
       "      <td>0.0</td>\n",
       "      <td>0.0</td>\n",
       "      <td>1.0</td>\n",
       "      <td>1.0</td>\n",
       "      <td>1.0</td>\n",
       "      <td>0.0</td>\n",
       "      <td>...</td>\n",
       "      <td>0.0</td>\n",
       "      <td>0.0</td>\n",
       "      <td>0.0</td>\n",
       "      <td>0.0</td>\n",
       "      <td>0.0</td>\n",
       "      <td>0.0</td>\n",
       "      <td>0.0</td>\n",
       "      <td>0.0</td>\n",
       "      <td>0.0</td>\n",
       "      <td>0.0</td>\n",
       "    </tr>\n",
       "    <tr>\n",
       "      <th>4</th>\n",
       "      <td>711</td>\n",
       "      <td>0.0</td>\n",
       "      <td>0.0</td>\n",
       "      <td>1.0</td>\n",
       "      <td>0.0</td>\n",
       "      <td>1.0</td>\n",
       "      <td>1.0</td>\n",
       "      <td>0.0</td>\n",
       "      <td>0.0</td>\n",
       "      <td>1.0</td>\n",
       "      <td>...</td>\n",
       "      <td>0.0</td>\n",
       "      <td>0.0</td>\n",
       "      <td>0.0</td>\n",
       "      <td>0.0</td>\n",
       "      <td>0.0</td>\n",
       "      <td>0.0</td>\n",
       "      <td>0.0</td>\n",
       "      <td>0.0</td>\n",
       "      <td>0.0</td>\n",
       "      <td>0.0</td>\n",
       "    </tr>\n",
       "  </tbody>\n",
       "</table>\n",
       "<p>5 rows × 65 columns</p>\n",
       "</div>"
      ],
      "text/plain": [
       "    id  sudden_fever  headache  mouth_bleed  nose_bleed  muscle_pain  \\\n",
       "0  707           0.0       0.0          0.0         0.0          0.0   \n",
       "1  708           1.0       1.0          0.0         1.0          0.0   \n",
       "2  709           1.0       1.0          0.0         1.0          1.0   \n",
       "3  710           0.0       1.0          0.0         0.0          0.0   \n",
       "4  711           0.0       0.0          1.0         0.0          1.0   \n",
       "\n",
       "   joint_pain  vomiting  rash  diarrhea  ...  lymph_swells  \\\n",
       "0         0.0       0.0   0.0       0.0  ...           0.0   \n",
       "1         1.0       1.0   1.0       1.0  ...           0.0   \n",
       "2         1.0       1.0   0.0       1.0  ...           0.0   \n",
       "3         1.0       1.0   1.0       0.0  ...           0.0   \n",
       "4         1.0       0.0   0.0       1.0  ...           0.0   \n",
       "\n",
       "   breathing_restriction  toe_inflammation  finger_inflammation  \\\n",
       "0                    0.0               0.0                  0.0   \n",
       "1                    0.0               0.0                  0.0   \n",
       "2                    0.0               0.0                  0.0   \n",
       "3                    0.0               0.0                  0.0   \n",
       "4                    0.0               0.0                  0.0   \n",
       "\n",
       "   lips_irritation  itchiness  ulcers  toenail_loss  speech_problem  \\\n",
       "0              0.0        0.0     0.0           0.0             0.0   \n",
       "1              0.0        0.0     0.0           0.0             0.0   \n",
       "2              0.0        1.0     0.0           0.0             0.0   \n",
       "3              0.0        0.0     0.0           0.0             0.0   \n",
       "4              0.0        0.0     0.0           0.0             0.0   \n",
       "\n",
       "   bullseye_rash  \n",
       "0            0.0  \n",
       "1            0.0  \n",
       "2            0.0  \n",
       "3            0.0  \n",
       "4            0.0  \n",
       "\n",
       "[5 rows x 65 columns]"
      ]
     },
     "execution_count": 60,
     "metadata": {},
     "output_type": "execute_result"
    }
   ],
   "source": [
    "test_data.head()"
   ]
  },
  {
   "cell_type": "code",
   "execution_count": 38,
   "id": "038c1ce7",
   "metadata": {
    "scrolled": true
   },
   "outputs": [],
   "source": [
    "X = train_data\n",
    "y = X.pop('prognosis')\n",
    "#X for final data that is used to make prediction: test_data\n"
   ]
  },
  {
   "cell_type": "code",
   "execution_count": 45,
   "id": "d8d49002",
   "metadata": {},
   "outputs": [
    {
     "data": {
      "text/plain": [
       "array(['Lyme_disease', 'Tungiasis', 'Zika', 'Rift_Valley_fever',\n",
       "       'West_Nile_fever', 'Malaria', 'Chikungunya', 'Plague', 'Dengue',\n",
       "       'Yellow_Fever', 'Japanese_encephalitis'], dtype=object)"
      ]
     },
     "execution_count": 45,
     "metadata": {},
     "output_type": "execute_result"
    }
   ],
   "source": []
  },
  {
   "cell_type": "markdown",
   "id": "49e5d3d2",
   "metadata": {},
   "source": [
    "## Feature Engineering\n",
    "\n"
   ]
  },
  {
   "cell_type": "code",
   "execution_count": null,
   "id": "dd9bd4b0",
   "metadata": {},
   "outputs": [],
   "source": [
    "diseases = y.unique()"
   ]
  },
  {
   "cell_type": "code",
   "execution_count": 75,
   "id": "a019169b",
   "metadata": {},
   "outputs": [],
   "source": [
    "#set variables\n",
    "#variables = ['gravity','ph','osmo','cond','urea','calc']\n",
    "#variables = ['calc','urea']\n",
    "\n",
    "#train_X = train_data[variables]\n",
    "#train_y = train_data['prognosis']\n",
    "#val_X = test_data[variables]"
   ]
  },
  {
   "cell_type": "code",
   "execution_count": 76,
   "id": "980f509d",
   "metadata": {},
   "outputs": [],
   "source": [
    "#Copied from https://www.kaggle.com/competitions/playground-series-s3e12/discussion/400005\n",
    "#X = train_data[['gravity', 'ph', 'cond', 'urea', 'calc']].copy()\n",
    "#Y = train_data['target']\n",
    "\n",
    "#Y = train_data['target']\n",
    "\n",
    "#Clipping  calc and gravity seems like it could be helpful, but in practice gives a worse validation score due to underfitting.\n",
    "#X['calc'] = X.calc.clip(None, 8)\n",
    "#X['gravity'] = X.gravity.clip(None, 1.03)\n"
   ]
  },
  {
   "cell_type": "markdown",
   "id": "36e43956",
   "metadata": {},
   "source": [
    "## Model Building\n"
   ]
  },
  {
   "cell_type": "code",
   "execution_count": 48,
   "id": "8b27ea85",
   "metadata": {},
   "outputs": [
    {
     "name": "stdout",
     "output_type": "stream",
     "text": [
      "Random Forest model accuracy: 0.30985915492957744\n"
     ]
    }
   ],
   "source": [
    "# Split the data into training and testing sets\n",
    "X_train, X_test, y_train, y_test = train_test_split(X, y, test_size=0.2, random_state=42)\n",
    "\n",
    "# Create a random forest classifier object\n",
    "rf_model = RandomForestClassifier(n_estimators=100, random_state=42)\n",
    "\n",
    "# Fit the model on the training data\n",
    "rf_model.fit(X_train, y_train)\n",
    "\n",
    "# Evaluate the model on the testing data\n",
    "score = rf_model.score(X_test, y_test)\n",
    "print(\"Random Forest model accuracy:\", score)"
   ]
  },
  {
   "cell_type": "code",
   "execution_count": 177,
   "id": "ad116258",
   "metadata": {
    "scrolled": false
   },
   "outputs": [],
   "source": [
    "\n",
    "X_test = test_data\n",
    "\n",
    "probabilities = rf_model.predict_proba(X_test)\n",
    "\n",
    "# Get the top 3 classes with the highest probabilities for each example\n",
    "N = 3\n",
    "top_diseases = [probs.argsort()[-N:][::-1] for probs in probabilities]\n",
    "\n",
    "# Map the class indices to their corresponding labels\n",
    "disease_labels = rf_model.classes_\n",
    "top_labels = pd.DataFrame([[disease_labels[i] for i in classes] for classes in top_diseases])\n",
    "# Print the top 3 guesses for the first example\n",
    "#print(top_labels)\n",
    "rect_top_labels = pd.DataFrame(top_labels.apply(lambda row: ' '.join(row.astype(str)), axis=1))\n",
    "\n",
    "\n",
    "output = rect_top_labels.rename(columns={0: 'prognosis'})\n",
    "output['id'] = test_data.id\n",
    "output = output.set_index('id')\n",
    "output\n",
    "#output = pd.DataFrame({'id': test_data.id, 'prognosis': top_labels})\n",
    "\n",
    "\n",
    "output.to_csv('output/output.csv')#, quoting=csv.QUOTE_NONE\n"
   ]
  },
  {
   "cell_type": "code",
   "execution_count": 175,
   "id": "1f055d99",
   "metadata": {},
   "outputs": [
    {
     "name": "stdout",
     "output_type": "stream",
     "text": [
      "                                              prognosis\n",
      "id                                                     \n",
      "707                  Rift_Valley_fever Dengue Tungiasis\n",
      "708                               Dengue Malaria Plague\n",
      "709        Japanese_encephalitis Rift_Valley_fever Zika\n",
      "710   Rift_Valley_fever Japanese_encephalitis Tungiasis\n",
      "711          Malaria Japanese_encephalitis Yellow_Fever\n",
      "...                                                 ...\n",
      "1005                  Zika Yellow_Fever West_Nile_fever\n",
      "1006               Malaria Lyme_disease West_Nile_fever\n",
      "1007                Lyme_disease West_Nile_fever Plague\n",
      "1008           West_Nile_fever Rift_Valley_fever Dengue\n",
      "1009         West_Nile_fever Japanese_encephalitis Zika\n",
      "\n",
      "[303 rows x 1 columns]\n"
     ]
    }
   ],
   "source": []
  },
  {
   "cell_type": "code",
   "execution_count": 90,
   "id": "61fe2772",
   "metadata": {},
   "outputs": [],
   "source": []
  },
  {
   "cell_type": "markdown",
   "id": "81b57956",
   "metadata": {},
   "source": [
    "## Model Evaluation\n"
   ]
  },
  {
   "cell_type": "code",
   "execution_count": null,
   "id": "d90c8f36",
   "metadata": {},
   "outputs": [],
   "source": []
  },
  {
   "cell_type": "code",
   "execution_count": 107,
   "id": "6400e081",
   "metadata": {},
   "outputs": [],
   "source": [
    "#output = pd.DataFrame({'id': test_data.id, 'target': y_pred_proba})\n",
    "\n",
    "\n",
    "\n",
    "\n"
   ]
  },
  {
   "cell_type": "markdown",
   "id": "3d67f05d",
   "metadata": {},
   "source": []
  },
  {
   "cell_type": "code",
   "execution_count": null,
   "id": "74adbd1e",
   "metadata": {},
   "outputs": [],
   "source": []
  },
  {
   "cell_type": "markdown",
   "id": "577fc298",
   "metadata": {},
   "source": [
    "## Conclusion and Road Map"
   ]
  },
  {
   "cell_type": "markdown",
   "id": "67a5fe81",
   "metadata": {},
   "source": [
    "\n"
   ]
  },
  {
   "cell_type": "markdown",
   "id": "a69a8bae",
   "metadata": {},
   "source": [
    "## References\n"
   ]
  },
  {
   "cell_type": "code",
   "execution_count": null,
   "id": "713b99b4",
   "metadata": {},
   "outputs": [],
   "source": []
  },
  {
   "cell_type": "code",
   "execution_count": null,
   "id": "bf0f3c27",
   "metadata": {},
   "outputs": [],
   "source": []
  },
  {
   "cell_type": "code",
   "execution_count": null,
   "id": "9f4f9820",
   "metadata": {},
   "outputs": [],
   "source": []
  },
  {
   "cell_type": "code",
   "execution_count": null,
   "id": "3492da4c",
   "metadata": {},
   "outputs": [],
   "source": []
  },
  {
   "cell_type": "code",
   "execution_count": null,
   "id": "b71772dc",
   "metadata": {},
   "outputs": [],
   "source": []
  }
 ],
 "metadata": {
  "kernelspec": {
   "display_name": "Python 3 (ipykernel)",
   "language": "python",
   "name": "python3"
  },
  "language_info": {
   "codemirror_mode": {
    "name": "ipython",
    "version": 3
   },
   "file_extension": ".py",
   "mimetype": "text/x-python",
   "name": "python",
   "nbconvert_exporter": "python",
   "pygments_lexer": "ipython3",
   "version": "3.10.9"
  }
 },
 "nbformat": 4,
 "nbformat_minor": 5
}
