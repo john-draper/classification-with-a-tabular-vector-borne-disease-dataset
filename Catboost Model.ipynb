{
 "cells": [
  {
   "cell_type": "markdown",
   "id": "0fd56417",
   "metadata": {},
   "source": [
    "## Introduction"
   ]
  },
  {
   "cell_type": "markdown",
   "id": "fff6471d",
   "metadata": {},
   "source": [
    "### Imports\n"
   ]
  },
  {
   "cell_type": "code",
   "execution_count": 5,
   "id": "4f8bc709",
   "metadata": {},
   "outputs": [],
   "source": [
    "import catboost as cb\n",
    "from catboost import CatBoostClassifier\n",
    "\n",
    "#depreciated imports can be cleaned up\n",
    "import pandas as pd\n",
    "import numpy as np\n",
    "import seaborn as sns\n",
    "import matplotlib.pyplot as plt\n",
    "import plotly.express as px\n",
    "import os\n",
    "import csv\n",
    "from sklearn.model_selection import train_test_split\n",
    "from sklearn.tree import DecisionTreeRegressor\n",
    "from sklearn.ensemble import RandomForestClassifier\n",
    "from sklearn.model_selection import cross_val_score\n",
    "from sklearn.preprocessing import LabelBinarizer\n",
    "\n",
    "\n",
    "from tensorflow import keras\n",
    "from tensorflow.keras import layers\n",
    "from tensorflow.keras.models import Sequential\n",
    "from tensorflow.keras.layers import Dense, Dropout\n",
    "from keras.callbacks import EarlyStopping, ModelCheckpoint\n",
    "from keras.models import load_model\n",
    "from tensorflow.keras import regularizers\n",
    "\n"
   ]
  },
  {
   "cell_type": "code",
   "execution_count": null,
   "id": "d90e66c4",
   "metadata": {},
   "outputs": [],
   "source": []
  },
  {
   "cell_type": "markdown",
   "id": "9a3a249b",
   "metadata": {},
   "source": [
    "## Data Preparation\n"
   ]
  },
  {
   "cell_type": "code",
   "execution_count": 7,
   "id": "26067cf0",
   "metadata": {},
   "outputs": [],
   "source": [
    "# construct the file paths using os.path.join\n",
    "train_path = os.path.join(\"input\", \"train.csv\")\n",
    "test_path = os.path.join(\"input\", \"test.csv\")\n",
    "sample_submission_path = os.path.join(\"input\", \"sample_submission.csv\")\n",
    "\n",
    "# load the CSV data using pandas\n",
    "train_data = pd.read_csv(train_path)\n",
    "test_data = pd.read_csv(test_path)\n",
    "sample_submission_data = pd.read_csv(sample_submission_path)\n",
    "\n",
    "X = train_data\n",
    "y = X.pop('prognosis')\n",
    "\n",
    "#Split\n",
    "X_train, X_test, y_train, y_test = train_test_split(X, y, test_size=0.2, random_state=42, stratify=y)\n",
    "\n",
    "\n",
    "lb = LabelBinarizer()\n",
    "y_train_one_hot = lb.fit_transform(y_train)\n",
    "y_test_one_hot = lb.transform(y_test)\n",
    "\n"
   ]
  },
  {
   "cell_type": "code",
   "execution_count": null,
   "id": "2db1fd40",
   "metadata": {},
   "outputs": [],
   "source": []
  },
  {
   "cell_type": "markdown",
   "id": "e39c7e49",
   "metadata": {},
   "source": [
    "## Exploratory Data Analysis"
   ]
  },
  {
   "cell_type": "code",
   "execution_count": null,
   "id": "9f44af80",
   "metadata": {},
   "outputs": [],
   "source": [
    "#Completed in previous notebook"
   ]
  },
  {
   "cell_type": "markdown",
   "id": "bbf52673",
   "metadata": {},
   "source": [
    "## Feature Engineering\n"
   ]
  },
  {
   "cell_type": "code",
   "execution_count": null,
   "id": "18b6a823",
   "metadata": {},
   "outputs": [],
   "source": []
  },
  {
   "cell_type": "markdown",
   "id": "94d557c8",
   "metadata": {},
   "source": [
    "## Catboost Model"
   ]
  },
  {
   "cell_type": "code",
   "execution_count": 37,
   "id": "4109589d",
   "metadata": {},
   "outputs": [],
   "source": [
    "y_train_one_hot_list = y_train_one_hot.tolist()\n",
    "y_test_one_hot_list = y_test_one_hot.tolist()\n",
    "#X_train_list = X_train.tolist()\n",
    "#X_test_list = X_test.tolist()\n"
   ]
  },
  {
   "cell_type": "code",
   "execution_count": 63,
   "id": "002aa317",
   "metadata": {},
   "outputs": [],
   "source": [
    "model = CatBoostClassifier(\n",
    "    iterations=100,\n",
    "    learning_rate=0.1,\n",
    "    loss_function='MultiClass',\n",
    "    eval_metric='AUC',\n",
    "    use_best_model = True,\n",
    "    od_type = 'Iter',\n",
    "    od_wait = 1000,\n",
    "    random_seed=42\n",
    ")"
   ]
  },
  {
   "cell_type": "code",
   "execution_count": 64,
   "id": "1e479ada",
   "metadata": {},
   "outputs": [
    {
     "data": {
      "text/plain": [
       "<catboost.core.CatBoostClassifier at 0x244ed443a90>"
      ]
     },
     "execution_count": 64,
     "metadata": {},
     "output_type": "execute_result"
    }
   ],
   "source": [
    "model.fit(X_train, y_train, \n",
    "          eval_set=(X_test, y_test), \n",
    "          cat_features=[],\n",
    "          verbose=False)"
   ]
  },
  {
   "cell_type": "code",
   "execution_count": 65,
   "id": "bb358d03",
   "metadata": {},
   "outputs": [],
   "source": [
    "#submission = pd.DataFrame({'prognosis': predictions})\n",
    "#predictions = model.predict(test_data)"
   ]
  },
  {
   "cell_type": "code",
   "execution_count": 66,
   "id": "0e066211",
   "metadata": {},
   "outputs": [],
   "source": [
    "# Assuming you have trained the model and stored it in a variable called 'model'\n",
    "probabilities = model.predict_proba(test_data)\n",
    "\n",
    "# Get the indices of the classes sorted in descending order based on the probabilities\n",
    "top_3_indices = np.argsort(-probabilities, axis=1)[:, :3]\n",
    "\n",
    "# Get the predicted class labels for the top 3 classes\n",
    "top_3_predictions = np.take(model.classes_, top_3_indices)"
   ]
  },
  {
   "cell_type": "code",
   "execution_count": 70,
   "id": "ec3d2bf1",
   "metadata": {},
   "outputs": [],
   "source": [
    "top_3_predictions = pd.DataFrame(top_3_predictions)\n",
    "rect_top_labels = pd.DataFrame(top_3_predictions.apply(lambda row: ' '.join(row.astype(str)), axis=1))\n",
    "output = (rect_top_labels\n",
    "          .rename(columns={0: 'prognosis'})\n",
    "          .set_index(test_data.id)\n",
    "         )\n",
    "\n",
    "output.to_csv('output/output.csv')#, quoting=csv.QUOTE_NONE\n",
    "        \n"
   ]
  },
  {
   "cell_type": "code",
   "execution_count": 69,
   "id": "5d4fdfbf",
   "metadata": {},
   "outputs": [
    {
     "data": {
      "text/html": [
       "<div>\n",
       "<style scoped>\n",
       "    .dataframe tbody tr th:only-of-type {\n",
       "        vertical-align: middle;\n",
       "    }\n",
       "\n",
       "    .dataframe tbody tr th {\n",
       "        vertical-align: top;\n",
       "    }\n",
       "\n",
       "    .dataframe thead th {\n",
       "        text-align: right;\n",
       "    }\n",
       "</style>\n",
       "<table border=\"1\" class=\"dataframe\">\n",
       "  <thead>\n",
       "    <tr style=\"text-align: right;\">\n",
       "      <th></th>\n",
       "      <th>prognosis</th>\n",
       "    </tr>\n",
       "    <tr>\n",
       "      <th>id</th>\n",
       "      <th></th>\n",
       "    </tr>\n",
       "  </thead>\n",
       "  <tbody>\n",
       "    <tr>\n",
       "      <th>707</th>\n",
       "      <td>Rift_Valley_fever Dengue Tungiasis</td>\n",
       "    </tr>\n",
       "    <tr>\n",
       "      <th>708</th>\n",
       "      <td>Dengue Chikungunya Rift_Valley_fever</td>\n",
       "    </tr>\n",
       "    <tr>\n",
       "      <th>709</th>\n",
       "      <td>West_Nile_fever Japanese_encephalitis Yellow_F...</td>\n",
       "    </tr>\n",
       "    <tr>\n",
       "      <th>710</th>\n",
       "      <td>Rift_Valley_fever Japanese_encephalitis Dengue</td>\n",
       "    </tr>\n",
       "    <tr>\n",
       "      <th>711</th>\n",
       "      <td>Japanese_encephalitis West_Nile_fever Zika</td>\n",
       "    </tr>\n",
       "    <tr>\n",
       "      <th>...</th>\n",
       "      <td>...</td>\n",
       "    </tr>\n",
       "    <tr>\n",
       "      <th>1005</th>\n",
       "      <td>Yellow_Fever West_Nile_fever Zika</td>\n",
       "    </tr>\n",
       "    <tr>\n",
       "      <th>1006</th>\n",
       "      <td>Lyme_disease Malaria West_Nile_fever</td>\n",
       "    </tr>\n",
       "    <tr>\n",
       "      <th>1007</th>\n",
       "      <td>Lyme_disease West_Nile_fever Rift_Valley_fever</td>\n",
       "    </tr>\n",
       "    <tr>\n",
       "      <th>1008</th>\n",
       "      <td>Rift_Valley_fever West_Nile_fever Dengue</td>\n",
       "    </tr>\n",
       "    <tr>\n",
       "      <th>1009</th>\n",
       "      <td>Japanese_encephalitis West_Nile_fever Yellow_F...</td>\n",
       "    </tr>\n",
       "  </tbody>\n",
       "</table>\n",
       "<p>303 rows × 1 columns</p>\n",
       "</div>"
      ],
      "text/plain": [
       "                                              prognosis\n",
       "id                                                     \n",
       "707                  Rift_Valley_fever Dengue Tungiasis\n",
       "708                Dengue Chikungunya Rift_Valley_fever\n",
       "709   West_Nile_fever Japanese_encephalitis Yellow_F...\n",
       "710      Rift_Valley_fever Japanese_encephalitis Dengue\n",
       "711          Japanese_encephalitis West_Nile_fever Zika\n",
       "...                                                 ...\n",
       "1005                  Yellow_Fever West_Nile_fever Zika\n",
       "1006               Lyme_disease Malaria West_Nile_fever\n",
       "1007     Lyme_disease West_Nile_fever Rift_Valley_fever\n",
       "1008           Rift_Valley_fever West_Nile_fever Dengue\n",
       "1009  Japanese_encephalitis West_Nile_fever Yellow_F...\n",
       "\n",
       "[303 rows x 1 columns]"
      ]
     },
     "execution_count": 69,
     "metadata": {},
     "output_type": "execute_result"
    }
   ],
   "source": [
    "output"
   ]
  },
  {
   "cell_type": "code",
   "execution_count": null,
   "id": "fcf65413",
   "metadata": {},
   "outputs": [],
   "source": []
  }
 ],
 "metadata": {
  "kernelspec": {
   "display_name": "Python 3 (ipykernel)",
   "language": "python",
   "name": "python3"
  },
  "language_info": {
   "codemirror_mode": {
    "name": "ipython",
    "version": 3
   },
   "file_extension": ".py",
   "mimetype": "text/x-python",
   "name": "python",
   "nbconvert_exporter": "python",
   "pygments_lexer": "ipython3",
   "version": "3.10.9"
  }
 },
 "nbformat": 4,
 "nbformat_minor": 5
}
